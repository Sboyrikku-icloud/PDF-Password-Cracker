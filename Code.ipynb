{
 "cells": [
  {
   "cell_type": "code",
   "execution_count": 1,
   "metadata": {},
   "outputs": [
    {
     "name": "stderr",
     "output_type": "stream",
     "text": [
      "Decrypting PDF:  43%|████▎     | 2160/5000 [00:03<00:04, 684.46it/s]"
     ]
    },
    {
     "name": "stdout",
     "output_type": "stream",
     "text": [
      "[+] Password found: abc123\n"
     ]
    },
    {
     "name": "stderr",
     "output_type": "stream",
     "text": [
      "\n"
     ]
    }
   ],
   "source": [
    "import pikepdf\n",
    "from tqdm import tqdm\n",
    "\n",
    "# load password list\n",
    "passwords = [ line.strip() for line in open(r\" Enter Password word list file path example: wordlist.txt \") ]\n",
    "\n",
    "password_found = False\n",
    "\n",
    "# iterate over passwords\n",
    "for password in tqdm(passwords, \"Decrypting PDF\"):\n",
    "    try:\n",
    "        # open PDF file\n",
    "        with pikepdf.open(r\"Enter the path of PDF file\", password=password) as pdf:\n",
    "            # Password decrypted successfully, break out of the loop\n",
    "            print(\"[+] Password found:\", password)\n",
    "            password_found = True\n",
    "            break\n",
    "    except pikepdf._core.PasswordError as e:\n",
    "        # wrong password, just continue in the loop\n",
    "        continue\n",
    "\n",
    "if not password_found:\n",
    "    print(\"[-] Password not found.\")\n"
   ]
  }
 ],
 "metadata": {
  "kernelspec": {
   "display_name": "Python 3",
   "language": "python",
   "name": "python3"
  },
  "language_info": {
   "codemirror_mode": {
    "name": "ipython",
    "version": 3
   },
   "file_extension": ".py",
   "mimetype": "text/x-python",
   "name": "python",
   "nbconvert_exporter": "python",
   "pygments_lexer": "ipython3",
   "version": "3.12.1"
  }
 },
 "nbformat": 4,
 "nbformat_minor": 2
}
